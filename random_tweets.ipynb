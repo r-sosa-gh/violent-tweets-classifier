{
 "cells": [
  {
   "cell_type": "code",
   "execution_count": 7,
   "metadata": {},
   "outputs": [],
   "source": [
    "import pandas as pd\n",
    "import numpy as np\n",
    "import random"
   ]
  },
  {
   "cell_type": "code",
   "execution_count": 2,
   "metadata": {},
   "outputs": [],
   "source": [
    "df = pd.read_csv('preds.tsv', sep='\\t')"
   ]
  },
  {
   "cell_type": "code",
   "execution_count": 13,
   "metadata": {},
   "outputs": [
    {
     "data": {
      "text/plain": [
       "'Ud. se preguntó x q una mujer aborta? Seguro q sí y seguro uno que sale a robar y matar también puede estar en una situacion de desesperación, droga, pobreza, abandono, etc. No x eso es legal matar. Piense. Q el esfuerzo sea proteger a esas mujeres para q no maten, p q se cuiden.'"
      ]
     },
     "execution_count": 13,
     "metadata": {},
     "output_type": "execute_result"
    }
   ],
   "source": [
    "df['text'].iloc[random.randint(0,5000)]"
   ]
  }
 ],
 "metadata": {
  "interpreter": {
   "hash": "34f1c893ac512309baa738435ec5beb675b4005f669953d20757ed79e80dfebe"
  },
  "kernelspec": {
   "display_name": "Python 3.8.9 ('hate-speech')",
   "language": "python",
   "name": "python3"
  },
  "language_info": {
   "codemirror_mode": {
    "name": "ipython",
    "version": 3
   },
   "file_extension": ".py",
   "mimetype": "text/x-python",
   "name": "python",
   "nbconvert_exporter": "python",
   "pygments_lexer": "ipython3",
   "version": "3.8.9"
  },
  "orig_nbformat": 4
 },
 "nbformat": 4,
 "nbformat_minor": 2
}
